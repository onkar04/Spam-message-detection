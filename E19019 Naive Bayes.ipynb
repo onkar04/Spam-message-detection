{
 "cells": [
  {
   "cell_type": "code",
   "execution_count": 1,
   "metadata": {},
   "outputs": [],
   "source": [
    "import pandas as pd\n",
    "import numpy as np\n",
    "import matplotlib.pyplot as plt\n",
    "import os\n",
    "os.chdir(r\"C:\\Users\\User\\Desktop\\Python Codes\")\n",
    "\n",
    "data = pd.read_csv(\"spam.csv\",encoding = \"ISO-8859-1\")\n"
   ]
  },
  {
   "cell_type": "code",
   "execution_count": 2,
   "metadata": {},
   "outputs": [
    {
     "data": {
      "text/plain": [
       "v1\n",
       "ham     86.593683\n",
       "spam    13.406317\n",
       "Name: v2, dtype: float64"
      ]
     },
     "execution_count": 2,
     "metadata": {},
     "output_type": "execute_result"
    }
   ],
   "source": [
    "data.groupby(\"v1\").count()[\"v2\"]*100/len(data)"
   ]
  },
  {
   "cell_type": "code",
   "execution_count": 3,
   "metadata": {},
   "outputs": [
    {
     "data": {
      "text/html": [
       "<div>\n",
       "<style scoped>\n",
       "    .dataframe tbody tr th:only-of-type {\n",
       "        vertical-align: middle;\n",
       "    }\n",
       "\n",
       "    .dataframe tbody tr th {\n",
       "        vertical-align: top;\n",
       "    }\n",
       "\n",
       "    .dataframe thead tr th {\n",
       "        text-align: left;\n",
       "    }\n",
       "\n",
       "    .dataframe thead tr:last-of-type th {\n",
       "        text-align: right;\n",
       "    }\n",
       "</style>\n",
       "<table border=\"1\" class=\"dataframe\">\n",
       "  <thead>\n",
       "    <tr>\n",
       "      <th></th>\n",
       "      <th colspan=\"4\" halign=\"left\">v2</th>\n",
       "    </tr>\n",
       "    <tr>\n",
       "      <th></th>\n",
       "      <th>count</th>\n",
       "      <th>unique</th>\n",
       "      <th>top</th>\n",
       "      <th>freq</th>\n",
       "    </tr>\n",
       "    <tr>\n",
       "      <th>v1</th>\n",
       "      <th></th>\n",
       "      <th></th>\n",
       "      <th></th>\n",
       "      <th></th>\n",
       "    </tr>\n",
       "  </thead>\n",
       "  <tbody>\n",
       "    <tr>\n",
       "      <th>ham</th>\n",
       "      <td>4825</td>\n",
       "      <td>4516</td>\n",
       "      <td>Sorry, I'll call later</td>\n",
       "      <td>30</td>\n",
       "    </tr>\n",
       "    <tr>\n",
       "      <th>spam</th>\n",
       "      <td>747</td>\n",
       "      <td>653</td>\n",
       "      <td>Please call our customer service representativ...</td>\n",
       "      <td>4</td>\n",
       "    </tr>\n",
       "  </tbody>\n",
       "</table>\n",
       "</div>"
      ],
      "text/plain": [
       "        v2                                                               \n",
       "     count unique                                                top freq\n",
       "v1                                                                       \n",
       "ham   4825   4516                             Sorry, I'll call later   30\n",
       "spam   747    653  Please call our customer service representativ...    4"
      ]
     },
     "execution_count": 3,
     "metadata": {},
     "output_type": "execute_result"
    }
   ],
   "source": [
    "data[[\"v1\",\"v2\"]].groupby(\"v1\").describe()"
   ]
  },
  {
   "cell_type": "code",
   "execution_count": 4,
   "metadata": {},
   "outputs": [
    {
     "name": "stdout",
     "output_type": "stream",
     "text": [
      "count    5572.000000\n",
      "mean       80.118808\n",
      "std        59.690841\n",
      "min         2.000000\n",
      "25%        36.000000\n",
      "50%        61.000000\n",
      "75%       121.000000\n",
      "max       910.000000\n",
      "Name: length, dtype: float64\n"
     ]
    },
    {
     "data": {
      "text/plain": [
       "<matplotlib.axes._subplots.AxesSubplot at 0x1e194ad6780>"
      ]
     },
     "execution_count": 4,
     "metadata": {},
     "output_type": "execute_result"
    },
    {
     "data": {
      "image/png": "[encoded data removed]",
      "text/plain": [
       "<Figure size 432x288 with 1 Axes>"
      ]
     },
     "metadata": {
      "needs_background": "light"
     },
     "output_type": "display_data"
    }
   ],
   "source": [
    "data['length'] = data['v2'].apply(len)\n",
    "print(data['length'].describe())\n",
    "data['length'].plot(bins=50,kind = 'hist')"
   ]
  },
  {
   "cell_type": "code",
   "execution_count": 5,
   "metadata": {},
   "outputs": [
    {
     "data": {
      "text/plain": [
       "array([<matplotlib.axes._subplots.AxesSubplot object at 0x000001E194FB57B8>,\n",
       "       <matplotlib.axes._subplots.AxesSubplot object at 0x000001E194FF45F8>],\n",
       "      dtype=object)"
      ]
     },
     "execution_count": 5,
     "metadata": {},
     "output_type": "execute_result"
    },
    {
     "data": {
      "image/png": "[encoded data removed]",
      "text/plain": [
       "<Figure size 720x288 with 2 Axes>"
      ]
     },
     "metadata": {
      "needs_background": "light"
     },
     "output_type": "display_data"
    }
   ],
   "source": [
    "data.hist(column='length',by ='v1',bins=30,figsize = (10,4))"
   ]
  },
  {
   "cell_type": "markdown",
   "metadata": {},
   "source": [
    "#### Create a new data frame that will hold extracted features from main dataframe"
   ]
  },
  {
   "cell_type": "code",
   "execution_count": 6,
   "metadata": {},
   "outputs": [],
   "source": [
    "subset=pd.DataFrame(columns=[\"spam\",\"hasmoney\",\"hasphone_num\",\"hassms\",\"haswebsite\"])\n",
    "subset[\"spam\"]=data[\"v1\"]\n",
    "subset[\"haswebsite\"]=0\n",
    "subset[\"hassms\"]=0\n",
    "subset[\"hasmoney\"]=0\n",
    "subset[\"hasphone_num\"]=0"
   ]
  },
  {
   "cell_type": "code",
   "execution_count": 7,
   "metadata": {},
   "outputs": [
    {
     "data": {
      "text/plain": [
       "2"
      ]
     },
     "execution_count": 7,
     "metadata": {},
     "output_type": "execute_result"
    }
   ],
   "source": [
    "\"apple has come in may has come\".count(\"come\")"
   ]
  },
  {
   "cell_type": "code",
   "execution_count": 8,
   "metadata": {},
   "outputs": [],
   "source": [
    "data[\"v2\"]=data[\"v2\"].str.lower()"
   ]
  },
  {
   "cell_type": "code",
   "execution_count": 9,
   "metadata": {},
   "outputs": [],
   "source": [
    "subset.loc[((data['v2'].str.contains(\"£\"))|(data['v2'].str.contains(\"pound\"))),\"hasmoney\"]=(data['v2'].str.count(\"£\")+data['v2'].str.count(\"pound\"))\n",
    "subset.loc[((data['v2'].str.contains(\"call\"))|(data['v2'].str.contains(\"care\"))),\"hasphone_num\"]=(data['v2'].str.count(\"call\")+data['v2'].str.count(\"care\"))\n",
    "subset.loc[data['v2'].str.contains(\"sms\"),\"hassms\"]=data['v2'].str.count(\"sms\")\n",
    "subset.loc[((data['v2'].str.contains(\"www\"))|(data['v2'].str.contains(\"http\"))),\"haswebsite\"]=(data['v2'].str.count(\"www\")+data['v2'].str.count(\"http\"))"
   ]
  },
  {
   "cell_type": "code",
   "execution_count": 10,
   "metadata": {},
   "outputs": [
    {
     "data": {
      "text/html": [
       "<div>\n",
       "<style scoped>\n",
       "    .dataframe tbody tr th:only-of-type {\n",
       "        vertical-align: middle;\n",
       "    }\n",
       "\n",
       "    .dataframe tbody tr th {\n",
       "        vertical-align: top;\n",
       "    }\n",
       "\n",
       "    .dataframe thead th {\n",
       "        text-align: right;\n",
       "    }\n",
       "</style>\n",
       "<table border=\"1\" class=\"dataframe\">\n",
       "  <thead>\n",
       "    <tr style=\"text-align: right;\">\n",
       "      <th></th>\n",
       "      <th>spam</th>\n",
       "      <th>hasmoney</th>\n",
       "      <th>hasphone_num</th>\n",
       "      <th>hassms</th>\n",
       "      <th>haswebsite</th>\n",
       "    </tr>\n",
       "  </thead>\n",
       "  <tbody>\n",
       "    <tr>\n",
       "      <th>12</th>\n",
       "      <td>spam</td>\n",
       "      <td>1</td>\n",
       "      <td>0</td>\n",
       "      <td>0</td>\n",
       "      <td>1</td>\n",
       "    </tr>\n",
       "    <tr>\n",
       "      <th>15</th>\n",
       "      <td>spam</td>\n",
       "      <td>0</td>\n",
       "      <td>0</td>\n",
       "      <td>0</td>\n",
       "      <td>1</td>\n",
       "    </tr>\n",
       "    <tr>\n",
       "      <th>163</th>\n",
       "      <td>spam</td>\n",
       "      <td>0</td>\n",
       "      <td>0</td>\n",
       "      <td>1</td>\n",
       "      <td>1</td>\n",
       "    </tr>\n",
       "    <tr>\n",
       "      <th>190</th>\n",
       "      <td>spam</td>\n",
       "      <td>0</td>\n",
       "      <td>0</td>\n",
       "      <td>0</td>\n",
       "      <td>1</td>\n",
       "    </tr>\n",
       "    <tr>\n",
       "      <th>224</th>\n",
       "      <td>spam</td>\n",
       "      <td>1</td>\n",
       "      <td>0</td>\n",
       "      <td>0</td>\n",
       "      <td>1</td>\n",
       "    </tr>\n",
       "    <tr>\n",
       "      <th>249</th>\n",
       "      <td>spam</td>\n",
       "      <td>0</td>\n",
       "      <td>0</td>\n",
       "      <td>0</td>\n",
       "      <td>1</td>\n",
       "    </tr>\n",
       "    <tr>\n",
       "      <th>272</th>\n",
       "      <td>spam</td>\n",
       "      <td>1</td>\n",
       "      <td>0</td>\n",
       "      <td>0</td>\n",
       "      <td>1</td>\n",
       "    </tr>\n",
       "    <tr>\n",
       "      <th>304</th>\n",
       "      <td>spam</td>\n",
       "      <td>0</td>\n",
       "      <td>0</td>\n",
       "      <td>2</td>\n",
       "      <td>1</td>\n",
       "    </tr>\n",
       "    <tr>\n",
       "      <th>356</th>\n",
       "      <td>spam</td>\n",
       "      <td>0</td>\n",
       "      <td>0</td>\n",
       "      <td>0</td>\n",
       "      <td>1</td>\n",
       "    </tr>\n",
       "    <tr>\n",
       "      <th>367</th>\n",
       "      <td>spam</td>\n",
       "      <td>0</td>\n",
       "      <td>0</td>\n",
       "      <td>0</td>\n",
       "      <td>1</td>\n",
       "    </tr>\n",
       "  </tbody>\n",
       "</table>\n",
       "</div>"
      ],
      "text/plain": [
       "     spam  hasmoney  hasphone_num  hassms  haswebsite\n",
       "12   spam         1             0       0           1\n",
       "15   spam         0             0       0           1\n",
       "163  spam         0             0       1           1\n",
       "190  spam         0             0       0           1\n",
       "224  spam         1             0       0           1\n",
       "249  spam         0             0       0           1\n",
       "272  spam         1             0       0           1\n",
       "304  spam         0             0       2           1\n",
       "356  spam         0             0       0           1\n",
       "367  spam         0             0       0           1"
      ]
     },
     "execution_count": 10,
     "metadata": {},
     "output_type": "execute_result"
    }
   ],
   "source": [
    "subset[subset[\"haswebsite\"]>0].head(10)"
   ]
  },
  {
   "cell_type": "code",
   "execution_count": 11,
   "metadata": {},
   "outputs": [
    {
     "data": {
      "text/html": [
       "<div>\n",
       "<style scoped>\n",
       "    .dataframe tbody tr th:only-of-type {\n",
       "        vertical-align: middle;\n",
       "    }\n",
       "\n",
       "    .dataframe tbody tr th {\n",
       "        vertical-align: top;\n",
       "    }\n",
       "\n",
       "    .dataframe thead th {\n",
       "        text-align: right;\n",
       "    }\n",
       "</style>\n",
       "<table border=\"1\" class=\"dataframe\">\n",
       "  <thead>\n",
       "    <tr style=\"text-align: right;\">\n",
       "      <th></th>\n",
       "      <th>spam</th>\n",
       "      <th>hasmoney</th>\n",
       "      <th>hasphone_num</th>\n",
       "      <th>hassms</th>\n",
       "      <th>haswebsite</th>\n",
       "    </tr>\n",
       "  </thead>\n",
       "  <tbody>\n",
       "    <tr>\n",
       "      <th>42</th>\n",
       "      <td>spam</td>\n",
       "      <td>0</td>\n",
       "      <td>2</td>\n",
       "      <td>1</td>\n",
       "      <td>0</td>\n",
       "    </tr>\n",
       "    <tr>\n",
       "      <th>54</th>\n",
       "      <td>spam</td>\n",
       "      <td>0</td>\n",
       "      <td>0</td>\n",
       "      <td>1</td>\n",
       "      <td>0</td>\n",
       "    </tr>\n",
       "    <tr>\n",
       "      <th>85</th>\n",
       "      <td>ham</td>\n",
       "      <td>0</td>\n",
       "      <td>1</td>\n",
       "      <td>1</td>\n",
       "      <td>0</td>\n",
       "    </tr>\n",
       "    <tr>\n",
       "      <th>163</th>\n",
       "      <td>spam</td>\n",
       "      <td>0</td>\n",
       "      <td>0</td>\n",
       "      <td>1</td>\n",
       "      <td>1</td>\n",
       "    </tr>\n",
       "    <tr>\n",
       "      <th>304</th>\n",
       "      <td>spam</td>\n",
       "      <td>0</td>\n",
       "      <td>0</td>\n",
       "      <td>2</td>\n",
       "      <td>1</td>\n",
       "    </tr>\n",
       "    <tr>\n",
       "      <th>379</th>\n",
       "      <td>ham</td>\n",
       "      <td>0</td>\n",
       "      <td>1</td>\n",
       "      <td>1</td>\n",
       "      <td>0</td>\n",
       "    </tr>\n",
       "    <tr>\n",
       "      <th>409</th>\n",
       "      <td>ham</td>\n",
       "      <td>0</td>\n",
       "      <td>0</td>\n",
       "      <td>1</td>\n",
       "      <td>0</td>\n",
       "    </tr>\n",
       "    <tr>\n",
       "      <th>504</th>\n",
       "      <td>spam</td>\n",
       "      <td>1</td>\n",
       "      <td>1</td>\n",
       "      <td>1</td>\n",
       "      <td>0</td>\n",
       "    </tr>\n",
       "    <tr>\n",
       "      <th>671</th>\n",
       "      <td>spam</td>\n",
       "      <td>0</td>\n",
       "      <td>0</td>\n",
       "      <td>1</td>\n",
       "      <td>0</td>\n",
       "    </tr>\n",
       "    <tr>\n",
       "      <th>704</th>\n",
       "      <td>ham</td>\n",
       "      <td>0</td>\n",
       "      <td>0</td>\n",
       "      <td>1</td>\n",
       "      <td>0</td>\n",
       "    </tr>\n",
       "  </tbody>\n",
       "</table>\n",
       "</div>"
      ],
      "text/plain": [
       "     spam  hasmoney  hasphone_num  hassms  haswebsite\n",
       "42   spam         0             2       1           0\n",
       "54   spam         0             0       1           0\n",
       "85    ham         0             1       1           0\n",
       "163  spam         0             0       1           1\n",
       "304  spam         0             0       2           1\n",
       "379   ham         0             1       1           0\n",
       "409   ham         0             0       1           0\n",
       "504  spam         1             1       1           0\n",
       "671  spam         0             0       1           0\n",
       "704   ham         0             0       1           0"
      ]
     },
     "execution_count": 11,
     "metadata": {},
     "output_type": "execute_result"
    }
   ],
   "source": [
    "subset[subset[\"hassms\"]>0].head(10)"
   ]
  },
  {
   "cell_type": "code",
   "execution_count": 12,
   "metadata": {},
   "outputs": [],
   "source": [
    "import nltk\n",
    "import string\n",
    "import calendar\n",
    "import numpy as np\n",
    "from nltk.corpus import wordnet\n",
    "from nltk.corpus import stopwords\n",
    "\n",
    "from nltk.stem.wordnet import WordNetLemmatizer\n",
    "from nltk import pos_tag\n",
    "from nltk.stem import PorterStemmer \n",
    "\n",
    "# POS tagging function ( preprocessing for lemmitization)\n",
    "def get_wordnet_pos(treebank_tag):\n",
    "\n",
    "    if treebank_tag.startswith('J'):\n",
    "        return wordnet.ADJ\n",
    "    elif treebank_tag.startswith('V'):\n",
    "        return wordnet.VERB\n",
    "    elif treebank_tag.startswith('N'):\n",
    "        return wordnet.NOUN\n",
    "    elif treebank_tag.startswith('R'):\n",
    "        return wordnet.ADV\n",
    "    else:\n",
    "        return wordnet.NOUN\n",
    "       \n",
    "# Creating a list of stop words. \n",
    "\n",
    "month=[]\n",
    "delword=string.punctuation+\"_\"+\"–\"+\"-\"\n",
    "stop_words = set(stopwords.words('english')) \n",
    "\n",
    "for i in calendar.month_name:\n",
    "    month.append(i.lower())\n",
    "\n",
    "month =  [s for s in month if s]\n",
    "num=list(map(str,np.arange(0,10)))\n",
    "\n",
    "\n",
    "\n",
    "def remove_stopwords(text):\n",
    "\n",
    "    t11 = text.lower().split()\n",
    "    t11 = list(map(lambda x:x.lower(),t11))\n",
    "    t12 = [''.join(c for c in s if c not in delword) for s in t11]\n",
    "    #t12 = [s for s in t12 if s]\n",
    "    t13 =  [''.join(c for c in s if c not in num) for s in t12]\n",
    "    t13 = [w for w in t13 if not w in month] \n",
    "    t13 = [w for w in t13 if not w in stop_words] \n",
    "    t13 = [s for s in t13 if len(s) != 1]\n",
    "    t13 = [s for s in t13 if s]\n",
    "    \n",
    "    t14=getunique(t13,\"lem\")\n",
    "    return(t14)\n",
    "\n",
    "lemma = WordNetLemmatizer()\n",
    "ps = PorterStemmer()\n",
    "\n",
    "def getunique (text,types):   ## types either lemmitization or stemming\n",
    "    \n",
    "    lemmed=[]\n",
    "    stemmed=[]\n",
    "    unique1=[]\n",
    "        \n",
    "    unique = list(np.unique(text))\n",
    "    \n",
    "    if types==\"lem\":\n",
    "        \n",
    "        tagged = nltk.pos_tag(unique)\n",
    "\n",
    "        for token, tag in tagged:\n",
    "\n",
    "            lemmed.append(lemma.lemmatize(token, get_wordnet_pos(tag)))\n",
    "\n",
    "        unique1 = list(np.unique(lemmed))\n",
    "        \n",
    "        \n",
    "    if types==\"stem\":\n",
    "\n",
    "        for u in unique: \n",
    "            \n",
    "            stemmed.append(ps.stem(u))\n",
    "        \n",
    "        unique1 = list(np.unique(stemmed))   \n",
    "            \n",
    "    return(unique1)"
   ]
  },
  {
   "cell_type": "code",
   "execution_count": 13,
   "metadata": {},
   "outputs": [],
   "source": [
    "from sklearn.feature_extraction.text import CountVectorizer\n",
    "\n",
    "vec = CountVectorizer(analyzer=remove_stopwords)\n",
    "transformer = vec.fit(data[\"v2\"])\n",
    "dtm = transformer.transform(data['v2'])\n",
    "df = pd.DataFrame(dtm.toarray(), columns=vec.get_feature_names())"
   ]
  },
  {
   "cell_type": "markdown",
   "metadata": {},
   "source": [
    "#### Retaining those columns that meet a minimum entries threshold"
   ]
  },
  {
   "cell_type": "code",
   "execution_count": 14,
   "metadata": {},
   "outputs": [],
   "source": [
    "ham=df[data[\"v1\"]==\"ham\"]\n",
    "ham_cols=[]\n",
    "\n",
    "for i in range(0,len(ham.columns)):\n",
    "    \n",
    "    if(sum(ham.iloc[:,i])>5):\n",
    "        \n",
    "        ham_cols.append(ham.columns[i])"
   ]
  },
  {
   "cell_type": "code",
   "execution_count": 15,
   "metadata": {},
   "outputs": [],
   "source": [
    "spam=df[data[\"v1\"]==\"spam\"]\n",
    "spam_cols=[]\n",
    "\n",
    "for i in range(0,len(spam.columns)):\n",
    "    \n",
    "    if(sum(spam.iloc[:,i])>2):\n",
    "        \n",
    "        spam_cols.append(spam.columns[i])"
   ]
  },
  {
   "cell_type": "code",
   "execution_count": 16,
   "metadata": {},
   "outputs": [
    {
     "name": "stdout",
     "output_type": "stream",
     "text": [
      "count of considered spam features 665\n",
      "count of considered ham features 982\n"
     ]
    }
   ],
   "source": [
    "print(\"count of considered spam features\",len(spam_cols))\n",
    "print(\"count of considered ham features\",len(ham_cols))"
   ]
  },
  {
   "cell_type": "code",
   "execution_count": 17,
   "metadata": {},
   "outputs": [],
   "source": [
    "new=[\"hasmoney\",\"hasphone_num\",\"hassms\",\"haswebsite\"]\n",
    "filter_cols = ham_cols + spam_cols \n",
    "df_filter=df.loc[:,filter_cols]\n",
    "filter_cols = ham_cols + spam_cols+new\n",
    "df_filter = pd.concat([df_filter,subset[[\"hasmoney\",\"hasphone_num\",\"hassms\",\"haswebsite\"]]], axis=1)"
   ]
  },
  {
   "cell_type": "code",
   "execution_count": 18,
   "metadata": {},
   "outputs": [
    {
     "data": {
      "text/plain": [
       "Index(['abiola', 'able', 'abt', 'accept', 'account', 'across', 'actually',\n",
       "       'add', 'address', 'advance',\n",
       "       ...\n",
       "       'yesterday', 'youve', 'yr', 'zed', 'å£', 'å£wk', 'hasmoney',\n",
       "       'hasphone_num', 'hassms', 'haswebsite'],\n",
       "      dtype='object', length=1651)"
      ]
     },
     "execution_count": 18,
     "metadata": {},
     "output_type": "execute_result"
    }
   ],
   "source": [
    "df_filter.columns"
   ]
  },
  {
   "cell_type": "markdown",
   "metadata": {},
   "source": [
    "#### Train - Test split and Fitting a naive bayes model"
   ]
  },
  {
   "cell_type": "code",
   "execution_count": 19,
   "metadata": {},
   "outputs": [
    {
     "name": "stdout",
     "output_type": "stream",
     "text": [
      "accuracy 0.9688995215311005\n",
      "[[709  15]\n",
      " [ 11 101]]\n"
     ]
    }
   ],
   "source": [
    "from sklearn.model_selection import train_test_split\n",
    "\n",
    "X_train, X_test, y_train, y_test = train_test_split(df_filter, data['v1'], test_size=0.15, random_state=69,stratify=data['v1'])\n",
    "\n",
    "from sklearn.naive_bayes import MultinomialNB\n",
    "from sklearn.metrics import confusion_matrix\n",
    "\n",
    "\n",
    "model = MultinomialNB().fit(X_train, y_train)\n",
    "predicted = model.predict(X_test)\n",
    "\n",
    "print(\"accuracy\",np.mean(predicted == y_test))\n",
    "print(confusion_matrix(y_test, predicted))"
   ]
  },
  {
   "cell_type": "code",
   "execution_count": 20,
   "metadata": {},
   "outputs": [],
   "source": [
    "from sklearn.feature_extraction.text import TfidfTransformer\n",
    "\n",
    "transformer_ti = TfidfTransformer().fit(df_filter)\n",
    "\n",
    "df_filter_ti = transformer_ti.transform(df_filter)"
   ]
  },
  {
   "cell_type": "code",
   "execution_count": 21,
   "metadata": {},
   "outputs": [],
   "source": [
    "df_filter_ti = pd.DataFrame(df_filter_ti.toarray(), columns=filter_cols)"
   ]
  },
  {
   "cell_type": "code",
   "execution_count": 22,
   "metadata": {},
   "outputs": [
    {
     "name": "stdout",
     "output_type": "stream",
     "text": [
      "accuracy 0.9677033492822966\n",
      "[[718   6]\n",
      " [ 21  91]]\n"
     ]
    }
   ],
   "source": [
    "from sklearn.model_selection import train_test_split\n",
    "\n",
    "X_train, X_test, y_train, y_test = train_test_split(df_filter_ti, data['v1'], test_size=0.15, random_state=69,stratify=data['v1'])\n",
    "\n",
    "from sklearn.naive_bayes import MultinomialNB\n",
    "from sklearn.metrics import confusion_matrix\n",
    "\n",
    "\n",
    "model = MultinomialNB().fit(X_train, y_train)\n",
    "predicted = model.predict(X_test)\n",
    "\n",
    "print(\"accuracy\",np.mean(predicted == y_test))\n",
    "print(confusion_matrix(y_test, predicted))"
   ]
  },
  {
   "cell_type": "code",
   "execution_count": null,
   "metadata": {},
   "outputs": [],
   "source": []
  }
 ],
 "metadata": {
  "kernelspec": {
   "display_name": "Python 3",
   "language": "python",
   "name": "python3"
  },
  "language_info": {
   "codemirror_mode": {
    "name": "ipython",
    "version": 3
   },
   "file_extension": ".py",
   "mimetype": "text/x-python",
   "name": "python",
   "nbconvert_exporter": "python",
   "pygments_lexer": "ipython3",
   "version": "3.7.1"
  }
 },
 "nbformat": 4,
 "nbformat_minor": 2
}
